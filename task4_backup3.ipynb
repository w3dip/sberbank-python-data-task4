{
 "cells": [
  {
   "cell_type": "markdown",
   "source": [
    "### Упражнение 1\n",
    "\n",
    "* Скачайте с портала Открытых Данных производственный календарь России: https://data.gov.ru/opendata/7708660670-proizvcalendar\n",
    "* На его основе определите соответствующий календарь в Pandas: `RussianBusinessCalendar(AbstractHolidayCalendar)`\n",
    "* С помощью полученного в пункте выше календаря и модуля `pd.offsets` создайте DataFrame one-hot календарных признаков:\n",
    "    * День недели\n",
    "    * Месяц\n",
    "    * Выходной день\n",
    "    * Праздничный день\n",
    "    * Предпраздничный рабочий день\n",
    "    * Последний день месяца\n",
    "    * Последний рабочий день месяца\n",
    "    * Предновогодний выходной день"
   ],
   "metadata": {
    "collapsed": false
   }
  },
  {
   "cell_type": "code",
   "execution_count": null,
   "outputs": [],
   "source": [
    "!pip install pymorphy2"
   ],
   "metadata": {
    "collapsed": false,
    "pycharm": {
     "name": "#%%\n"
    }
   }
  },
  {
   "cell_type": "code",
   "execution_count": null,
   "outputs": [],
   "source": [
    "import datetime # для работы со временем\n",
    "\n",
    "import numpy as np\n",
    "import pandas as pd\n",
    "import matplotlib.pyplot as plt\n",
    "import sys\n",
    "import locale\n",
    "import calendar\n",
    "import pymorphy2\n",
    "from pandas.tseries.holiday import AbstractHolidayCalendar, Holiday\n",
    "from pandas.tseries.offsets import DateOffset, Day\n",
    "\n",
    "%matplotlib inline\n",
    "\n",
    "import warnings\n",
    "warnings.filterwarnings('ignore')\n",
    "\n",
    "def set_rus_locale():\n",
    "    locale.setlocale(\n",
    "        locale.LC_ALL,\n",
    "        'rus_rus' if sys.platform == 'win32' else 'ru_RU.UTF-8')\n",
    "\n",
    "set_rus_locale()\n",
    "pd.set_option('display.max_columns', None)\n",
    "morph = pymorphy2.MorphAnalyzer()\n",
    "\n",
    "work_calendar = pd.read_csv('./data/calendar.csv')\n",
    "work_calendar"
   ],
   "metadata": {
    "collapsed": false,
    "pycharm": {
     "name": "#%%\n"
    }
   }
  },
  {
   "cell_type": "code",
   "execution_count": null,
   "outputs": [],
   "source": [
    "events = pd.DataFrame(index=pd.date_range(start='2013-03-25', end='2020-01-10', freq='D'))\n",
    "\n",
    "class RussianBusinessCalendar(AbstractHolidayCalendar):\n",
    "    start_date = datetime.datetime(2013, 3, 25)\n",
    "    end_date = datetime.datetime(2020, 1, 10)\n",
    "    rules = []\n",
    "    for i, row in work_calendar.iterrows():\n",
    "        year = int(row[0])\n",
    "        for month in range(1, 13):\n",
    "            for day in row[month].replace('*', '').replace('+', '').split(','):\n",
    "                rules.append(Holiday('Holiday ' + str(i), year=year, month=month, day=int(day)))\n",
    "\n",
    "\n",
    "russian_busday = pd.offsets.CustomBusinessDay(weekmask='Mon Tue Wed Thu Fri',\n",
    "                                              calendar=RussianBusinessCalendar())\n",
    "\n",
    "cal = RussianBusinessCalendar()\n",
    "\n",
    "#В соответствии с производственным календарем Консультант Плюс заполним государственные праздники http://www.consultant.ru/law/ref/calendar/proizvodstvennye/2021/\n",
    "feasts = []\n",
    "for i in range(1, 9):\n",
    "    feasts.append((1, i))\n",
    "\n",
    "feasts.append((2, 23))\n",
    "feasts.append((3, 8))\n",
    "feasts.append((5, 1))\n",
    "feasts.append((5, 9))\n",
    "feasts.append((12, 6))\n",
    "feasts.append((11, 4))\n",
    "\n",
    "holidays = cal.holidays()\n",
    "\n",
    "events['выходной'] = 0\n",
    "events['праздник'] = 0\n",
    "events['предпраздничный рабочий день'] = 0\n",
    "events['последний день месяца'] = 0\n",
    "events['последний рабочий день месяца'] = 0\n",
    "\n",
    "for i in range(0, 7):\n",
    "    events[calendar.day_abbr[i]] = 0\n",
    "for i in range(1, 13):\n",
    "    events[morph.parse(calendar.month_name[i])[0].normal_form] = 0\n",
    "\n",
    "events['Предновогодний выходной день'] = 0\n",
    "for i, row in events.iterrows():\n",
    "    year = i.year\n",
    "    month = i.month\n",
    "    day = i.day\n",
    "    weekday = i.weekday()\n",
    "    day_name = pd.to_datetime(i).strftime(\"%a\")\n",
    "    month_name = morph.parse(pd.to_datetime(i).strftime(\"%B\"))[0].normal_form\n",
    "    events.at[i, day_name] = 1\n",
    "    events.at[i, month_name] = 1\n",
    "\n",
    "    current_day = datetime.datetime(year, month, day)\n",
    "    if current_day in holidays:\n",
    "        events.at[i, 'выходной'] = 1\n",
    "\n",
    "    if month == 12:\n",
    "        last_holiday = cal.holidays().to_series()[str(year) + '-' + str(month)].index[-1].day\n",
    "        if last_holiday == day:\n",
    "            events.at[i, 'Предновогодний выходной день'] = 1\n",
    "\n",
    "    if (month, day) in feasts:\n",
    "        events.at[i, 'праздник'] = 1\n",
    "        before_feast = i - russian_busday\n",
    "        events.at[before_feast, 'предпраздничный рабочий день'] = 1\n",
    "\n",
    "    if i.is_month_end:\n",
    "        events.at[i, 'последний день месяца'] = 1\n",
    "        if current_day in holidays:\n",
    "            events.at[i - russian_busday, 'последний рабочий день месяца'] = 1\n",
    "        else:\n",
    "            events.at[i, 'последний рабочий день месяца'] = 1\n",
    "\n",
    "events"
   ],
   "metadata": {
    "collapsed": false,
    "pycharm": {
     "name": "#%%\n"
    }
   }
  },
  {
   "cell_type": "markdown",
   "source": [
    "### Упражнение 2\n",
    "\n",
    "* Для временного ряда курса акций Сбербанка на основе производственного календаря России сформируйте DataFrame признаков:\n",
    "    * Лаговые переменные рабочих дней с глубинами: 1, 3, 5\n",
    "    * Скользящие статистики `['mean', 'median', 'max', 'min', 'std'] ` с окнами 1, 3, 5 сгрупированные по дням недели\n",
    "    * Статистики `['mean', 'median', 'max', 'min', 'std'] ` в расширяющемся окне сгруппированные по рабочим, праздничным и предпраздничным дням"
   ],
   "metadata": {
    "collapsed": false
   }
  },
  {
   "cell_type": "code",
   "execution_count": null,
   "outputs": [],
   "source": [
    "ts = pd.read_csv('./data/sber_stocks.csv', usecols=['CLOSE', 'TRADEDATE'],\n",
    "                 index_col='TRADEDATE', parse_dates=True)\n",
    "ts = ts.CLOSE\n",
    "\n",
    "ts.plot(figsize=(20, 10), grid=True, linewidth=3)"
   ],
   "metadata": {
    "collapsed": false,
    "pycharm": {
     "name": "#%%\n"
    }
   }
  },
  {
   "cell_type": "code",
   "execution_count": null,
   "outputs": [],
   "source": [
    "ts"
   ],
   "metadata": {
    "collapsed": false,
    "pycharm": {
     "name": "#%%\n"
    }
   }
  },
  {
   "cell_type": "markdown",
   "source": [
    "##### Задание 1"
   ],
   "metadata": {
    "collapsed": false
   }
  },
  {
   "cell_type": "code",
   "execution_count": null,
   "outputs": [],
   "source": [
    "ts_by_day = ts.asfreq('1D').fillna(method='ffill')\n",
    "ts_shift_1 = ts_by_day.shift(1, freq=russian_busday)\n",
    "ts_shift_3 = ts_by_day.shift(3, freq=russian_busday)\n",
    "ts_shift_5 = ts_by_day.shift(5, freq=russian_busday)\n",
    "ts_shift_1['2019'].plot(figsize=(20, 10), color='red')\n",
    "ts_shift_3['2019'].plot(figsize=(20, 10), color='green')\n",
    "ts_shift_5['2019'].plot(figsize=(20, 10), color='orange')\n",
    "ts['2019'].plot(grid=True)"
   ],
   "metadata": {
    "collapsed": false,
    "pycharm": {
     "name": "#%%\n"
    }
   }
  },
  {
   "cell_type": "markdown",
   "source": [
    "##### Задание 2"
   ],
   "metadata": {
    "collapsed": false,
    "pycharm": {
     "name": "#%% md\n"
    }
   }
  },
  {
   "cell_type": "code",
   "execution_count": null,
   "outputs": [],
   "source": [
    "ts = pd.DataFrame(ts)\n",
    "ts_by_day = ts.asfreq('1D').fillna(method='ffill')\n",
    "ts_by_day['weekday'] = ts_by_day.index.weekday\n",
    "groupped = ts_by_day.groupby('weekday')['CLOSE']"
   ],
   "metadata": {
    "collapsed": false,
    "pycharm": {
     "name": "#%%\n"
    }
   }
  },
  {
   "cell_type": "code",
   "execution_count": null,
   "outputs": [],
   "source": [
    "rolling_mean_window_1 = groupped.transform(lambda x: x.rolling(window=1).mean().shift(1))\n",
    "rolling_mean_window_1['2019'].plot(figsize=(20, 10), color='red')\n",
    "ts_by_day['2019']['CLOSE'].plot(grid=True)"
   ],
   "metadata": {
    "collapsed": false,
    "pycharm": {
     "name": "#%%\n"
    }
   }
  },
  {
   "cell_type": "code",
   "execution_count": null,
   "outputs": [],
   "source": [
    "rolling_mean_window_3 = groupped.transform(lambda x: x.rolling(window=3).mean().shift(1))\n",
    "rolling_mean_window_3['2019'].plot(figsize=(20, 10), color='red')\n",
    "ts_by_day['2019']['CLOSE'].plot(grid=True)"
   ],
   "metadata": {
    "collapsed": false,
    "pycharm": {
     "name": "#%%\n"
    }
   }
  },
  {
   "cell_type": "code",
   "execution_count": null,
   "outputs": [],
   "source": [
    "rolling_mean_window_5 = groupped.transform(lambda x: x.rolling(window=5).mean().shift(1))\n",
    "rolling_mean_window_5['2019'].plot(figsize=(20, 10), color='red')\n",
    "ts_by_day['2019']['CLOSE'].plot(grid=True)"
   ],
   "metadata": {
    "collapsed": false,
    "pycharm": {
     "name": "#%%\n"
    }
   }
  },
  {
   "cell_type": "code",
   "execution_count": null,
   "outputs": [],
   "source": [
    "rolling_median_window_1 = groupped.transform(lambda x: x.rolling(window=1).median().shift(1))\n",
    "rolling_median_window_1['2019'].plot(figsize=(20, 10), color='red')\n",
    "ts_by_day['2019']['CLOSE'].plot(grid=True)"
   ],
   "metadata": {
    "collapsed": false,
    "pycharm": {
     "name": "#%%\n"
    }
   }
  },
  {
   "cell_type": "code",
   "execution_count": null,
   "outputs": [],
   "source": [
    "rolling_median_window_3 = groupped.transform(lambda x: x.rolling(window=3).median().shift(1))\n",
    "rolling_median_window_3['2019'].plot(figsize=(20, 10), color='red')\n",
    "ts_by_day['2019']['CLOSE'].plot(grid=True)"
   ],
   "metadata": {
    "collapsed": false,
    "pycharm": {
     "name": "#%%\n"
    }
   }
  },
  {
   "cell_type": "code",
   "execution_count": null,
   "outputs": [],
   "source": [
    "rolling_median_window_5 = groupped.transform(lambda x: x.rolling(window=5).median().shift(1))\n",
    "rolling_median_window_5['2019'].plot(figsize=(20, 10), color='red')\n",
    "ts_by_day['2019']['CLOSE'].plot(grid=True)"
   ],
   "metadata": {
    "collapsed": false,
    "pycharm": {
     "name": "#%%\n"
    }
   }
  },
  {
   "cell_type": "code",
   "execution_count": null,
   "outputs": [],
   "source": [
    "rolling_max_window_1 = groupped.transform(lambda x: x.rolling(window=1).max().shift(1))\n",
    "rolling_max_window_1['2019'].plot(figsize=(20, 10), color='red')\n",
    "ts_by_day['2019']['CLOSE'].plot(grid=True)"
   ],
   "metadata": {
    "collapsed": false,
    "pycharm": {
     "name": "#%%\n"
    }
   }
  },
  {
   "cell_type": "code",
   "execution_count": null,
   "outputs": [],
   "source": [
    "rolling_max_window_3 = groupped.transform(lambda x: x.rolling(window=3).max().shift(1))\n",
    "rolling_max_window_3['2019'].plot(figsize=(20, 10), color='red')\n",
    "ts_by_day['2019']['CLOSE'].plot(grid=True)"
   ],
   "metadata": {
    "collapsed": false,
    "pycharm": {
     "name": "#%%\n"
    }
   }
  },
  {
   "cell_type": "code",
   "execution_count": null,
   "outputs": [],
   "source": [
    "rolling_max_window_5 = groupped.transform(lambda x: x.rolling(window=5).max().shift(1))\n",
    "rolling_max_window_5['2019'].plot(figsize=(20, 10), color='red')\n",
    "ts_by_day['2019']['CLOSE'].plot(grid=True)"
   ],
   "metadata": {
    "collapsed": false,
    "pycharm": {
     "name": "#%%\n"
    }
   }
  },
  {
   "cell_type": "code",
   "execution_count": null,
   "outputs": [],
   "source": [
    "rolling_min_window_1 = groupped.transform(lambda x: x.rolling(window=1).min().shift(1))\n",
    "rolling_min_window_1['2019'].plot(figsize=(20, 10), color='red')\n",
    "ts_by_day['2019']['CLOSE'].plot(grid=True)"
   ],
   "metadata": {
    "collapsed": false,
    "pycharm": {
     "name": "#%%\n"
    }
   }
  },
  {
   "cell_type": "code",
   "execution_count": null,
   "outputs": [],
   "source": [
    "rolling_min_window_3 = groupped.transform(lambda x: x.rolling(window=3).min().shift(1))\n",
    "rolling_min_window_3['2019'].plot(figsize=(20, 10), color='red')\n",
    "ts_by_day['2019']['CLOSE'].plot(grid=True)"
   ],
   "metadata": {
    "collapsed": false,
    "pycharm": {
     "name": "#%%\n"
    }
   }
  },
  {
   "cell_type": "code",
   "execution_count": null,
   "outputs": [],
   "source": [
    "rolling_min_window_5 = groupped.transform(lambda x: x.rolling(window=5).min().shift(1))\n",
    "rolling_min_window_5['2019'].plot(figsize=(20, 10), color='red')\n",
    "ts_by_day['2019']['CLOSE'].plot(grid=True)"
   ],
   "metadata": {
    "collapsed": false,
    "pycharm": {
     "name": "#%%\n"
    }
   }
  },
  {
   "cell_type": "code",
   "execution_count": null,
   "outputs": [],
   "source": [
    "rolling_std_window_1 = groupped.transform(lambda x: x.rolling(window=1).std().shift(1))\n",
    "rolling_std_window_1['2019'].plot(figsize=(20, 10), color='red')\n",
    "ts_by_day['2019']['CLOSE'].plot(grid=True)"
   ],
   "metadata": {
    "collapsed": false,
    "pycharm": {
     "name": "#%%\n"
    }
   }
  },
  {
   "cell_type": "code",
   "execution_count": null,
   "outputs": [],
   "source": [
    "rolling_std_window_3 = groupped.transform(lambda x: x.rolling(window=3).std().shift(1))\n",
    "rolling_std_window_3['2019'].plot(figsize=(20, 10), color='red')\n",
    "ts_by_day['2019']['CLOSE'].plot(grid=True)"
   ],
   "metadata": {
    "collapsed": false,
    "pycharm": {
     "name": "#%%\n"
    }
   }
  },
  {
   "cell_type": "code",
   "execution_count": null,
   "outputs": [],
   "source": [
    "rolling_std_window_3 = groupped.transform(lambda x: x.rolling(window=3).std().shift(1))\n",
    "result = ts_by_day['2019']['CLOSE'] + rolling_std_window_3['2019']\n",
    "ts_by_day['2019']['CLOSE'].plot(figsize=(20, 10), color='red')\n",
    "result.plot(grid=True)"
   ],
   "metadata": {
    "collapsed": false,
    "pycharm": {
     "name": "#%%\n"
    }
   }
  },
  {
   "cell_type": "code",
   "execution_count": null,
   "outputs": [],
   "source": [
    "rolling_std_window_5 = groupped.transform(lambda x: x.rolling(window=5).std().shift(1))\n",
    "rolling_std_window_5['2019'].plot(figsize=(20, 10), color='red')\n",
    "ts_by_day['2019']['CLOSE'].plot(grid=True)"
   ],
   "metadata": {
    "collapsed": false,
    "pycharm": {
     "name": "#%%\n"
    }
   }
  },
  {
   "cell_type": "code",
   "execution_count": null,
   "outputs": [],
   "source": [
    "rolling_std_window_5 = groupped.transform(lambda x: x.rolling(window=5).std().shift(1))\n",
    "result = ts_by_day['2019']['CLOSE'] + rolling_std_window_5['2019']\n",
    "ts_by_day['2019']['CLOSE'].plot(figsize=(20, 10), color='red')\n",
    "result.plot(grid=True)"
   ],
   "metadata": {
    "collapsed": false,
    "pycharm": {
     "name": "#%%\n"
    }
   }
  },
  {
   "cell_type": "code",
   "execution_count": null,
   "outputs": [],
   "source": [
    "##### Задание 3"
   ],
   "metadata": {
    "collapsed": false,
    "pycharm": {
     "name": "#%%\n"
    }
   }
  },
  {
   "cell_type": "code",
   "execution_count": null,
   "outputs": [],
   "source": [
    "events_with_prices = pd.concat([events, ts_by_day], axis=1, join=\"inner\")\n",
    "events_with_prices"
   ],
   "metadata": {
    "collapsed": false,
    "pycharm": {
     "name": "#%%\n"
    }
   }
  },
  {
   "cell_type": "code",
   "execution_count": null,
   "outputs": [],
   "source": [
    "events_with_prices[events_with_prices['выходной'] == 0].groupby('выходной')['CLOSE'].transform(lambda x: x.expanding().mean().shift(1)).plot(figsize=(20, 10))\n",
    "events_with_prices[events_with_prices['праздник'] == 1].groupby('праздник')['CLOSE'].transform(lambda x: x.expanding().mean().shift(1)).plot(figsize=(20, 10), color='red')\n",
    "events_with_prices[events_with_prices['предпраздничный рабочий день'] == 1].groupby('предпраздничный рабочий день')['CLOSE'].transform(lambda x: x.expanding().mean().shift(1)).plot(figsize=(20, 10), color='green')"
   ],
   "metadata": {
    "collapsed": false,
    "pycharm": {
     "name": "#%%\n"
    }
   }
  },
  {
   "cell_type": "code",
   "execution_count": null,
   "outputs": [],
   "source": [
    "events_with_prices[events_with_prices['выходной'] == 0].groupby('выходной')['CLOSE'].transform(lambda x: x.expanding().median().shift(1)).plot(figsize=(20, 10))\n",
    "events_with_prices[events_with_prices['праздник'] == 1].groupby('праздник')['CLOSE'].transform(lambda x: x.expanding().median().shift(1)).plot(figsize=(20, 10), color='red')\n",
    "events_with_prices[events_with_prices['предпраздничный рабочий день'] == 1].groupby('предпраздничный рабочий день')['CLOSE'].transform(lambda x: x.expanding().median().shift(1)).plot(figsize=(20, 10), color='green')"
   ],
   "metadata": {
    "collapsed": false,
    "pycharm": {
     "name": "#%%\n"
    }
   }
  },
  {
   "cell_type": "code",
   "execution_count": null,
   "outputs": [],
   "source": [
    "events_with_prices[events_with_prices['выходной'] == 0].groupby('выходной')['CLOSE'].transform(lambda x: x.expanding().max().shift(1)).plot(figsize=(20, 10))\n",
    "events_with_prices[events_with_prices['праздник'] == 1].groupby('праздник')['CLOSE'].transform(lambda x: x.expanding().max().shift(1)).plot(figsize=(20, 10), color='red')\n",
    "events_with_prices[events_with_prices['предпраздничный рабочий день'] == 1].groupby('предпраздничный рабочий день')['CLOSE'].transform(lambda x: x.expanding().max().shift(1)).plot(figsize=(20, 10), color='green')"
   ],
   "metadata": {
    "collapsed": false,
    "pycharm": {
     "name": "#%%\n"
    }
   }
  },
  {
   "cell_type": "code",
   "execution_count": null,
   "outputs": [],
   "source": [
    "events_with_prices[events_with_prices['выходной'] == 0].groupby('выходной')['CLOSE'].transform(lambda x: x.expanding().min().shift(1)).plot(figsize=(20, 10))\n",
    "events_with_prices[events_with_prices['праздник'] == 1].groupby('праздник')['CLOSE'].transform(lambda x: x.expanding().min().shift(1)).plot(figsize=(20, 10), color='red')\n",
    "events_with_prices[events_with_prices['предпраздничный рабочий день'] == 1].groupby('предпраздничный рабочий день')['CLOSE'].transform(lambda x: x.expanding().min().shift(1)).plot(figsize=(20, 10), color='green')"
   ],
   "metadata": {
    "collapsed": false,
    "pycharm": {
     "name": "#%%\n"
    }
   }
  },
  {
   "cell_type": "code",
   "execution_count": null,
   "outputs": [],
   "source": [
    "events_with_prices[events_with_prices['выходной'] == 0].groupby('выходной')['CLOSE'].transform(lambda x: x.expanding().std().shift(1)).plot(figsize=(20, 10))\n",
    "events_with_prices[events_with_prices['праздник'] == 1].groupby('праздник')['CLOSE'].transform(lambda x: x.expanding().std().shift(1)).plot(figsize=(20, 10), color='red')\n",
    "events_with_prices[events_with_prices['предпраздничный рабочий день'] == 1].groupby('предпраздничный рабочий день')['CLOSE'].transform(lambda x: x.expanding().std().shift(1)).plot(figsize=(20, 10), color='green')"
   ],
   "metadata": {
    "collapsed": false,
    "pycharm": {
     "name": "#%%\n"
    }
   }
  }
 ],
 "metadata": {
  "kernelspec": {
   "display_name": "Python 3",
   "language": "python",
   "name": "python3"
  },
  "language_info": {
   "codemirror_mode": {
    "name": "ipython",
    "version": 3
   },
   "file_extension": ".py",
   "mimetype": "text/x-python",
   "name": "python",
   "nbconvert_exporter": "python",
   "pygments_lexer": "ipython3",
   "version": "3.8.10"
  }
 },
 "nbformat": 4,
 "nbformat_minor": 2
}