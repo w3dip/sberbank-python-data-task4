{
 "cells": [],
 "metadata": {
  "kernelspec": {
   "display_name": "Python 3",
   "language": "python",
   "name": "python3"
  },
  "language_info": {
   "codemirror_mode": {
    "name": "ipython",
    "version": 2
   },
   "file_extension": ".py",
   "mimetype": "text/x-python",
   "name": "python",
   "nbconvert_exporter": "python",
   "pygments_lexer": "ipython2",
   "version": "2.7.6"
  },
  "pycharm": {
   "stem_cell": {
    "cell_type": "raw",
    "source": [
     "events_with_prices[events_with_prices['выходной'] == 0].groupby('выходной')['CLOSE'].transform(lambda x: x.expanding().std().shift(1)).plot(figsize=(20, 10))\n",
     "events_with_prices[events_with_prices['праздник'] == 1].groupby('праздник')['CLOSE'].transform(lambda x: x.expanding().std().shift(1)).plot(figsize=(20, 10), color='red')\n",
     "events_with_prices[events_with_prices['предпраздничный рабочий день'] == 1].groupby('предпраздничный рабочий день')['CLOSE'].transform(lambda x: x.expanding().std().shift(1)).plot(figsize=(20, 10), color='green')"
    ],
    "metadata": {
     "collapsed": false
    }
   }
  }
 },
 "nbformat": 4,
 "nbformat_minor": 0
}